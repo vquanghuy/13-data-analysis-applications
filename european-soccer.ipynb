{
 "cells": [
  {
   "cell_type": "markdown",
   "id": "6205253d-8e34-46d7-a51b-d3945539061d",
   "metadata": {},
   "source": [
    "# Phân tích tập dữ liệu các trận đá bóng ở châu Âu giai đoạn 2008 - 2016"
   ]
  },
  {
   "cell_type": "markdown",
   "id": "03b346a1-3d4c-4340-b13c-aff7f9b97e84",
   "metadata": {},
   "source": [
    "Dataset dữ liệu được lấy từ [Kaggle](https://www.kaggle.com/datasets/abdelrhmanragab/european-soccer-database) gồm các thông tin của các trận đấu, cầu thủ, đội bóng ở các nước châu Âu trong 11 giải đấu khác nhau với hơn 10 ngàn trận đấu giai đoạn 2008 - 2016. Bộ dataset này có 7 file `*.csv` khác nhau chứa các thông tin:\n",
    "\n",
    "* `Country.csv` Các quốc gia được khảo sát\n",
    "* `League.csv` Các giải đấu được khảo sát\n",
    "* `Match.csv` Các trận đấu diễn tra trong giai đoạn 2008 - 2016\n",
    "* `Player.csv` Thông tin các cầu thủ (tên, ngày sinh, chiều cao, cân nặng)\n",
    "* `Player_Attributes.csv` Thông tin đặc tính cầu thủ\n",
    "* `Team.csv` Thông tin đội bóng\n",
    "* `Team_Attributes.csv` Thông tin đặc tính của đội bóng"
   ]
  },
  {
   "cell_type": "markdown",
   "id": "c0348f1c-4493-4804-900d-21933afab3b5",
   "metadata": {},
   "source": [
    "Với tập dữ liệu này, thông qua việc khảo sát phân tích sẽ cố gắng tìm câu trả lời cho các câu hỏi sau\n",
    "\n",
    "* Có bao nhiêu trận đấu trong mỗi giải đấu ở mùa giải 2016?\n",
    "* Giải đấu nào có số trận hòa nhiều nhất trong mùa giải 2016?\n",
    "* Giải đấu nào có số trận thắng nhiều nhất trong mùa giải 2016?\n",
    "* Đội bóng nào để thua ít trận nhất trong mùa giải 2016?\n",
    "* Đội bóng nào có số trận thắng nhiều nhất trong mùa giải 2016?\n",
    "* Giải đấu nào có nhiều bàn thắng nhất trong mùa giải 2016?\n",
    "* Đội bóng nào có kết quả cải thiện tốt nhất?\n",
    "* Cầu thủ nào bị phạt nhiều nhất?\n",
    "* Những đặc tính nào ảnh hưởng nhiều nhất nhất đến việc đội bóng giành chiến thắng?\n",
    "* Có bao nhiêu cầu thủ có hiệu suất tổng thể hơn 90?\n",
    "* Các đặc tính đóng góp vào hiệu suất chung của cầu thủ là gì?"
   ]
  },
  {
   "cell_type": "markdown",
   "id": "50a72978-7b58-47f8-9eca-26413a42fa1b",
   "metadata": {},
   "source": [
    "# Chuẩn bị thư viện"
   ]
  },
  {
   "cell_type": "code",
   "execution_count": 2,
   "id": "cb37a1ab-00e0-4453-81a2-9db9a4c00e81",
   "metadata": {},
   "outputs": [],
   "source": [
    "import pandas as pd\n",
    "import numpy as np\n",
    "import matplotlib.pyplot as plt"
   ]
  },
  {
   "cell_type": "markdown",
   "id": "b93d2ef5-cbec-441d-8b66-dad4b5ff4a71",
   "metadata": {},
   "source": [
    "# Khảo sát dữ liệu"
   ]
  },
  {
   "cell_type": "markdown",
   "id": "ec4a427e-c1e6-445b-bbfa-f98c778e2429",
   "metadata": {},
   "source": [
    "Nạp dữ liệu vào bộ nhớ"
   ]
  },
  {
   "cell_type": "code",
   "execution_count": 4,
   "id": "7f54e744-06f5-4b5a-9917-1b47faf3c97b",
   "metadata": {},
   "outputs": [],
   "source": [
    "df_match = pd.read_csv('./data/Match.csv')\n",
    "df_player_attribute = pd.read_csv('./data/Player_Attributes.csv')\n",
    "df_team_attribute = pd.read_csv('./data/Team_Attributes.csv')\n",
    "df_team = pd.read_csv('./data/Team.csv')\n",
    "df_player = pd.read_csv('./data/Player.csv')\n",
    "df_country = pd.read_csv('./data/Country.csv')\n",
    "df_league = pd.read_csv('./data/League.csv')"
   ]
  },
  {
   "cell_type": "markdown",
   "id": "261bd8e7-21b2-4583-bed4-f3ebfa3b1811",
   "metadata": {},
   "source": [
    "## Tập dữ liệu trận đấu"
   ]
  },
  {
   "cell_type": "markdown",
   "id": "24ac21ac-54c6-49d7-a678-53ea3e40a95e",
   "metadata": {},
   "source": [
    "Lấy mẫu tập dữ liệu trận đấu"
   ]
  },
  {
   "cell_type": "code",
   "execution_count": 5,
   "id": "d6398706-de31-4aa0-ada6-0c6c8a7dd9d7",
   "metadata": {},
   "outputs": [
    {
     "data": {
      "text/html": [
       "<div>\n",
       "<style scoped>\n",
       "    .dataframe tbody tr th:only-of-type {\n",
       "        vertical-align: middle;\n",
       "    }\n",
       "\n",
       "    .dataframe tbody tr th {\n",
       "        vertical-align: top;\n",
       "    }\n",
       "\n",
       "    .dataframe thead th {\n",
       "        text-align: right;\n",
       "    }\n",
       "</style>\n",
       "<table border=\"1\" class=\"dataframe\">\n",
       "  <thead>\n",
       "    <tr style=\"text-align: right;\">\n",
       "      <th></th>\n",
       "      <th>id</th>\n",
       "      <th>country_id</th>\n",
       "      <th>league_id</th>\n",
       "      <th>season</th>\n",
       "      <th>stage</th>\n",
       "      <th>date</th>\n",
       "      <th>match_api_id</th>\n",
       "      <th>home_team_api_id</th>\n",
       "      <th>away_team_api_id</th>\n",
       "      <th>home_team_goal</th>\n",
       "      <th>...</th>\n",
       "      <th>SJA</th>\n",
       "      <th>VCH</th>\n",
       "      <th>VCD</th>\n",
       "      <th>VCA</th>\n",
       "      <th>GBH</th>\n",
       "      <th>GBD</th>\n",
       "      <th>GBA</th>\n",
       "      <th>BSH</th>\n",
       "      <th>BSD</th>\n",
       "      <th>BSA</th>\n",
       "    </tr>\n",
       "  </thead>\n",
       "  <tbody>\n",
       "    <tr>\n",
       "      <th>0</th>\n",
       "      <td>1</td>\n",
       "      <td>1</td>\n",
       "      <td>1</td>\n",
       "      <td>2008/2009</td>\n",
       "      <td>1</td>\n",
       "      <td>2008-08-17 00:00:00</td>\n",
       "      <td>492473</td>\n",
       "      <td>9987</td>\n",
       "      <td>9993</td>\n",
       "      <td>1</td>\n",
       "      <td>...</td>\n",
       "      <td>4.00</td>\n",
       "      <td>1.65</td>\n",
       "      <td>3.40</td>\n",
       "      <td>4.50</td>\n",
       "      <td>1.78</td>\n",
       "      <td>3.25</td>\n",
       "      <td>4.00</td>\n",
       "      <td>1.73</td>\n",
       "      <td>3.40</td>\n",
       "      <td>4.20</td>\n",
       "    </tr>\n",
       "    <tr>\n",
       "      <th>1</th>\n",
       "      <td>2</td>\n",
       "      <td>1</td>\n",
       "      <td>1</td>\n",
       "      <td>2008/2009</td>\n",
       "      <td>1</td>\n",
       "      <td>2008-08-16 00:00:00</td>\n",
       "      <td>492474</td>\n",
       "      <td>10000</td>\n",
       "      <td>9994</td>\n",
       "      <td>0</td>\n",
       "      <td>...</td>\n",
       "      <td>3.80</td>\n",
       "      <td>2.00</td>\n",
       "      <td>3.25</td>\n",
       "      <td>3.25</td>\n",
       "      <td>1.85</td>\n",
       "      <td>3.25</td>\n",
       "      <td>3.75</td>\n",
       "      <td>1.91</td>\n",
       "      <td>3.25</td>\n",
       "      <td>3.60</td>\n",
       "    </tr>\n",
       "    <tr>\n",
       "      <th>2</th>\n",
       "      <td>3</td>\n",
       "      <td>1</td>\n",
       "      <td>1</td>\n",
       "      <td>2008/2009</td>\n",
       "      <td>1</td>\n",
       "      <td>2008-08-16 00:00:00</td>\n",
       "      <td>492475</td>\n",
       "      <td>9984</td>\n",
       "      <td>8635</td>\n",
       "      <td>0</td>\n",
       "      <td>...</td>\n",
       "      <td>2.50</td>\n",
       "      <td>2.35</td>\n",
       "      <td>3.25</td>\n",
       "      <td>2.65</td>\n",
       "      <td>2.50</td>\n",
       "      <td>3.20</td>\n",
       "      <td>2.50</td>\n",
       "      <td>2.30</td>\n",
       "      <td>3.20</td>\n",
       "      <td>2.75</td>\n",
       "    </tr>\n",
       "    <tr>\n",
       "      <th>3</th>\n",
       "      <td>4</td>\n",
       "      <td>1</td>\n",
       "      <td>1</td>\n",
       "      <td>2008/2009</td>\n",
       "      <td>1</td>\n",
       "      <td>2008-08-17 00:00:00</td>\n",
       "      <td>492476</td>\n",
       "      <td>9991</td>\n",
       "      <td>9998</td>\n",
       "      <td>5</td>\n",
       "      <td>...</td>\n",
       "      <td>7.50</td>\n",
       "      <td>1.45</td>\n",
       "      <td>3.75</td>\n",
       "      <td>6.50</td>\n",
       "      <td>1.50</td>\n",
       "      <td>3.75</td>\n",
       "      <td>5.50</td>\n",
       "      <td>1.44</td>\n",
       "      <td>3.75</td>\n",
       "      <td>6.50</td>\n",
       "    </tr>\n",
       "    <tr>\n",
       "      <th>4</th>\n",
       "      <td>5</td>\n",
       "      <td>1</td>\n",
       "      <td>1</td>\n",
       "      <td>2008/2009</td>\n",
       "      <td>1</td>\n",
       "      <td>2008-08-16 00:00:00</td>\n",
       "      <td>492477</td>\n",
       "      <td>7947</td>\n",
       "      <td>9985</td>\n",
       "      <td>1</td>\n",
       "      <td>...</td>\n",
       "      <td>1.73</td>\n",
       "      <td>4.50</td>\n",
       "      <td>3.40</td>\n",
       "      <td>1.65</td>\n",
       "      <td>4.50</td>\n",
       "      <td>3.50</td>\n",
       "      <td>1.65</td>\n",
       "      <td>4.75</td>\n",
       "      <td>3.30</td>\n",
       "      <td>1.67</td>\n",
       "    </tr>\n",
       "  </tbody>\n",
       "</table>\n",
       "<p>5 rows × 115 columns</p>\n",
       "</div>"
      ],
      "text/plain": [
       "   id  country_id  league_id     season  stage                 date  \\\n",
       "0   1           1          1  2008/2009      1  2008-08-17 00:00:00   \n",
       "1   2           1          1  2008/2009      1  2008-08-16 00:00:00   \n",
       "2   3           1          1  2008/2009      1  2008-08-16 00:00:00   \n",
       "3   4           1          1  2008/2009      1  2008-08-17 00:00:00   \n",
       "4   5           1          1  2008/2009      1  2008-08-16 00:00:00   \n",
       "\n",
       "   match_api_id  home_team_api_id  away_team_api_id  home_team_goal  ...  \\\n",
       "0        492473              9987              9993               1  ...   \n",
       "1        492474             10000              9994               0  ...   \n",
       "2        492475              9984              8635               0  ...   \n",
       "3        492476              9991              9998               5  ...   \n",
       "4        492477              7947              9985               1  ...   \n",
       "\n",
       "    SJA   VCH   VCD   VCA   GBH   GBD   GBA   BSH   BSD   BSA  \n",
       "0  4.00  1.65  3.40  4.50  1.78  3.25  4.00  1.73  3.40  4.20  \n",
       "1  3.80  2.00  3.25  3.25  1.85  3.25  3.75  1.91  3.25  3.60  \n",
       "2  2.50  2.35  3.25  2.65  2.50  3.20  2.50  2.30  3.20  2.75  \n",
       "3  7.50  1.45  3.75  6.50  1.50  3.75  5.50  1.44  3.75  6.50  \n",
       "4  1.73  4.50  3.40  1.65  4.50  3.50  1.65  4.75  3.30  1.67  \n",
       "\n",
       "[5 rows x 115 columns]"
      ]
     },
     "execution_count": 5,
     "metadata": {},
     "output_type": "execute_result"
    }
   ],
   "source": [
    "df_match.head() "
   ]
  },
  {
   "cell_type": "markdown",
   "id": "e79b7043-4812-45e4-b94c-cd67c27b3f12",
   "metadata": {},
   "source": [
    "Các cột trong bảng trận đấu"
   ]
  },
  {
   "cell_type": "code",
   "execution_count": 6,
   "id": "5ae33020-e3e6-44fc-bf64-6e200a98c5be",
   "metadata": {},
   "outputs": [
    {
     "data": {
      "text/plain": [
       "Index(['id', 'country_id', 'league_id', 'season', 'stage', 'date',\n",
       "       'match_api_id', 'home_team_api_id', 'away_team_api_id',\n",
       "       'home_team_goal',\n",
       "       ...\n",
       "       'SJA', 'VCH', 'VCD', 'VCA', 'GBH', 'GBD', 'GBA', 'BSH', 'BSD', 'BSA'],\n",
       "      dtype='object', length=115)"
      ]
     },
     "execution_count": 6,
     "metadata": {},
     "output_type": "execute_result"
    }
   ],
   "source": [
    "df_match.columns "
   ]
  },
  {
   "cell_type": "markdown",
   "id": "80ee09e1-d018-49ee-810f-07bde995a97b",
   "metadata": {},
   "source": [
    "Số lượng dòng và cột"
   ]
  },
  {
   "cell_type": "code",
   "execution_count": 7,
   "id": "a54b0a72-dbbb-40ed-88d9-c41cc057c837",
   "metadata": {},
   "outputs": [
    {
     "data": {
      "text/plain": [
       "(25979, 115)"
      ]
     },
     "execution_count": 7,
     "metadata": {},
     "output_type": "execute_result"
    }
   ],
   "source": [
    "df_match.shape"
   ]
  },
  {
   "cell_type": "markdown",
   "id": "74b797de-e111-4236-af79-c563b98418cd",
   "metadata": {},
   "source": [
    "Thông tin data frame"
   ]
  },
  {
   "cell_type": "code",
   "execution_count": 8,
   "id": "070991d7-f141-4f67-8b15-88553a7641a9",
   "metadata": {},
   "outputs": [
    {
     "name": "stdout",
     "output_type": "stream",
     "text": [
      "<class 'pandas.core.frame.DataFrame'>\n",
      "RangeIndex: 25979 entries, 0 to 25978\n",
      "Columns: 115 entries, id to BSA\n",
      "dtypes: float64(96), int64(9), object(10)\n",
      "memory usage: 22.8+ MB\n"
     ]
    }
   ],
   "source": [
    "df_match.info()"
   ]
  },
  {
   "cell_type": "code",
   "execution_count": null,
   "id": "abe84782-580d-477a-8062-54ca3d72265f",
   "metadata": {},
   "outputs": [],
   "source": []
  }
 ],
 "metadata": {
  "kernelspec": {
   "display_name": "Python 3 (ipykernel)",
   "language": "python",
   "name": "python3"
  },
  "language_info": {
   "codemirror_mode": {
    "name": "ipython",
    "version": 3
   },
   "file_extension": ".py",
   "mimetype": "text/x-python",
   "name": "python",
   "nbconvert_exporter": "python",
   "pygments_lexer": "ipython3",
   "version": "3.9.7"
  },
  "toc-autonumbering": true,
  "toc-showmarkdowntxt": false
 },
 "nbformat": 4,
 "nbformat_minor": 5
}
